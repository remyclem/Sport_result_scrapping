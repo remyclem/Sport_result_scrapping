{
 "cells": [
  {
   "cell_type": "markdown",
   "metadata": {},
   "source": [
    "# Importing the Python libs"
   ]
  },
  {
   "cell_type": "code",
   "execution_count": 1,
   "metadata": {},
   "outputs": [],
   "source": [
    "from selenium import webdriver  \n",
    "from selenium.common.exceptions import NoSuchElementException  \n",
    "from selenium.webdriver.common.keys import Keys  \n",
    "from bs4 import BeautifulSoup\n",
    "from bs4.element import Tag\n",
    "\n",
    "import os\n",
    "import pandas as pd\n",
    "import datetime"
   ]
  },
  {
   "cell_type": "markdown",
   "metadata": {},
   "source": [
    "# Configuration: defining urls and other stuff"
   ]
  },
  {
   "cell_type": "code",
   "execution_count": 2,
   "metadata": {},
   "outputs": [],
   "source": [
    "url_basket_france = \"http://www.oddsportal.com/basketball/france/lnb/results/\"\n",
    "\n",
    "basketball_results_history_csv = os.path.join(\"/\", \"home\", \"remy\", \"workspace\",\n",
    "                                              \"Sport_result_scrapping\",\n",
    "                                              \"scrapped_data\",\n",
    "                                              \"basketball_history.csv\")"
   ]
  },
  {
   "cell_type": "markdown",
   "metadata": {},
   "source": [
    "# Gathering the html soup\n",
    "The selenium part with webbrowser is necessary due to the javascript of the website."
   ]
  },
  {
   "cell_type": "code",
   "execution_count": 3,
   "metadata": {},
   "outputs": [],
   "source": [
    "browser = webdriver.Firefox() \n",
    "browser.get(url_basket_france)  \n",
    "html_source = browser.page_source\n",
    "browser.quit()\n",
    "\n",
    "soup = BeautifulSoup(html_source,'lxml')  "
   ]
  },
  {
   "cell_type": "code",
   "execution_count": 4,
   "metadata": {},
   "outputs": [],
   "source": [
    "#print(soup.prettify())"
   ]
  },
  {
   "cell_type": "markdown",
   "metadata": {},
   "source": [
    "# Extracting the right information of interest"
   ]
  },
  {
   "cell_type": "code",
   "execution_count": 5,
   "metadata": {},
   "outputs": [],
   "source": [
    "tournament_table = soup.find(\"table\", id=\"tournamentTable\")"
   ]
  },
  {
   "cell_type": "code",
   "execution_count": 6,
   "metadata": {},
   "outputs": [],
   "source": [
    "#print(tournament_table.prettify())"
   ]
  },
  {
   "cell_type": "code",
   "execution_count": 7,
   "metadata": {},
   "outputs": [],
   "source": [
    "def reformat_date(current_date_of_match, hour):\n",
    "    \"\"\"Convert the scrapped text to a clean datetime object\n",
    "    \n",
    "    In particular, handles the first raw which contains \"Yesterday\"\n",
    "    instead of the full date\n",
    "    \"\"\"\n",
    "    \n",
    "    if \"Yesterday, \" in current_date_of_match:\n",
    "        year = datetime.datetime.now().year\n",
    "        current_date_of_match = current_date_of_match.replace(\"Yesterday, \", \"\")\n",
    "        current_date_of_match = current_date_of_match + str(year)\n",
    "        \n",
    "    elif \"Today, \" in current_date_of_match:\n",
    "        year = datetime.datetime.now().year\n",
    "        current_date_of_match = current_date_of_match.replace(\"Today, \", \"\")\n",
    "        current_date_of_match = current_date_of_match + str(year)\n",
    "\n",
    "    full_date_str = current_date_of_match + \" \" + hour\n",
    "    full_date_dt = datetime.datetime.strptime(full_date_str, \"%d %b %Y %H:%M\")\n",
    "    \n",
    "    return full_date_dt\n",
    "\n",
    "\n",
    "def reformat_team_name(team_content):\n",
    "    \"\"\"Convert the scrapped text to a clean team name\n",
    "    \n",
    "    In particular, removes the \" - \" between local and visitor\n",
    "    and removes the \"<span>\" \"markups\n",
    "    \"\"\"\n",
    "    \n",
    "    if isinstance(team_content, Tag):\n",
    "        team_content = team_content.contents[0]\n",
    "    \n",
    "    team_content = str(team_content).replace(\" - \", \"\")\n",
    "    \n",
    "    return team_content"
   ]
  },
  {
   "cell_type": "code",
   "execution_count": 14,
   "metadata": {},
   "outputs": [],
   "source": [
    "current_date_of_match = \"\"\n",
    "final_table = []\n",
    "\n",
    "for row in tournament_table.findAll(\"tr\"):\n",
    "     \n",
    "    # getting the date\n",
    "    th_elt = row.findAll(\"th\")\n",
    "    for elt in th_elt:\n",
    "        span_elt = elt.find(\"span\")\n",
    "        if span_elt and \"datet\" in str(span_elt):\n",
    "            current_date_of_match = span_elt.find(text=True)\n",
    "    \n",
    "    # getting the info per match\n",
    "    cells = row.findAll(\"td\")\n",
    "    \n",
    "    if len(cells) == 6:\n",
    "        hour = cells[0].find(text=True)\n",
    "        date = reformat_date(current_date_of_match, hour)\n",
    "        \n",
    "        match_name_contents = cells[1].find(\"a\").contents\n",
    "        locals = reformat_team_name(match_name_contents[0])\n",
    "        visitors = reformat_team_name(match_name_contents[1])\n",
    "        locals = str(local)\n",
    "        visitors = str(visitors)\n",
    "        \n",
    "        score = cells[2].find(text=True)\n",
    "        score_locals = score.split(\":\")[0]\n",
    "        score_visitors = score.split(\":\")[1]\n",
    "        \n",
    "        odd_locals = cells[3].find(text=True)\n",
    "        odd_visitors = cells[4].find(text=True)        \n",
    "        nb_bookmakers = cells[5].find(text=True)\n",
    "        \n",
    "        final_table.append([date, locals, visitors, score_locals, score_visitors, odd_locals, odd_visitors, nb_bookmakers])"
   ]
  },
  {
   "cell_type": "code",
   "execution_count": 9,
   "metadata": {},
   "outputs": [
    {
     "data": {
      "text/html": [
       "<div>\n",
       "<style scoped>\n",
       "    .dataframe tbody tr th:only-of-type {\n",
       "        vertical-align: middle;\n",
       "    }\n",
       "\n",
       "    .dataframe tbody tr th {\n",
       "        vertical-align: top;\n",
       "    }\n",
       "\n",
       "    .dataframe thead th {\n",
       "        text-align: right;\n",
       "    }\n",
       "</style>\n",
       "<table border=\"1\" class=\"dataframe\">\n",
       "  <thead>\n",
       "    <tr style=\"text-align: right;\">\n",
       "      <th></th>\n",
       "      <th>date</th>\n",
       "      <th>local</th>\n",
       "      <th>visitor</th>\n",
       "      <th>score</th>\n",
       "      <th>odd_local</th>\n",
       "      <th>odd_visitor</th>\n",
       "      <th>nb_bookmakers</th>\n",
       "    </tr>\n",
       "  </thead>\n",
       "  <tbody>\n",
       "    <tr>\n",
       "      <th>0</th>\n",
       "      <td>2018-06-02 16:30:00</td>\n",
       "      <td>Strasbourg</td>\n",
       "      <td>Le Mans</td>\n",
       "      <td>71:80</td>\n",
       "      <td>1.28</td>\n",
       "      <td>3.75</td>\n",
       "      <td>13</td>\n",
       "    </tr>\n",
       "    <tr>\n",
       "      <th>1</th>\n",
       "      <td>2018-06-01 18:45:00</td>\n",
       "      <td>Monaco</td>\n",
       "      <td>Limoges</td>\n",
       "      <td>88:71</td>\n",
       "      <td>1.15</td>\n",
       "      <td>5.75</td>\n",
       "      <td>13</td>\n",
       "    </tr>\n",
       "    <tr>\n",
       "      <th>2</th>\n",
       "      <td>2018-05-31 18:45:00</td>\n",
       "      <td>Strasbourg</td>\n",
       "      <td>Le Mans</td>\n",
       "      <td>76:66</td>\n",
       "      <td>1.36</td>\n",
       "      <td>3.23</td>\n",
       "      <td>13</td>\n",
       "    </tr>\n",
       "    <tr>\n",
       "      <th>3</th>\n",
       "      <td>2018-05-27 16:30:00</td>\n",
       "      <td>Le Mans</td>\n",
       "      <td>Lyon-Villeurbanne</td>\n",
       "      <td>79:68</td>\n",
       "      <td>1.53</td>\n",
       "      <td>2.56</td>\n",
       "      <td>13</td>\n",
       "    </tr>\n",
       "    <tr>\n",
       "      <th>4</th>\n",
       "      <td>2018-05-26 18:30:00</td>\n",
       "      <td>Dijon</td>\n",
       "      <td>Limoges</td>\n",
       "      <td>64:81</td>\n",
       "      <td>1.43</td>\n",
       "      <td>2.86</td>\n",
       "      <td>13</td>\n",
       "    </tr>\n",
       "  </tbody>\n",
       "</table>\n",
       "</div>"
      ],
      "text/plain": [
       "                 date       local            visitor  score odd_local  \\\n",
       "0 2018-06-02 16:30:00  Strasbourg            Le Mans  71:80      1.28   \n",
       "1 2018-06-01 18:45:00      Monaco            Limoges  88:71      1.15   \n",
       "2 2018-05-31 18:45:00  Strasbourg            Le Mans  76:66      1.36   \n",
       "3 2018-05-27 16:30:00     Le Mans  Lyon-Villeurbanne  79:68      1.53   \n",
       "4 2018-05-26 18:30:00       Dijon            Limoges  64:81      1.43   \n",
       "\n",
       "  odd_visitor nb_bookmakers  \n",
       "0        3.75            13  \n",
       "1        5.75            13  \n",
       "2        3.23            13  \n",
       "3        2.56            13  \n",
       "4        2.86            13  "
      ]
     },
     "execution_count": 9,
     "metadata": {},
     "output_type": "execute_result"
    }
   ],
   "source": [
    "columns = [\"date\", \"locals\", \"visitors\", \"score_locals\", \"score_visitors\", \"odd_local\", \"odd_visitor\", \"nb_bookmakers\"]\n",
    "basketball_history_df = pd.DataFrame(final_table, columns=columns)\n",
    "\n",
    "basketball_history_df.head(5)"
   ]
  },
  {
   "cell_type": "code",
   "execution_count": 10,
   "metadata": {},
   "outputs": [],
   "source": [
    "basketball_history_df.to_csv(basketball_results_history_csv, sep=\";\", index=False)"
   ]
  },
  {
   "cell_type": "markdown",
   "metadata": {},
   "source": []
  },
  {
   "cell_type": "code",
   "execution_count": null,
   "metadata": {},
   "outputs": [],
   "source": []
  }
 ],
 "metadata": {
  "kernelspec": {
   "display_name": "Python 3",
   "language": "python",
   "name": "python3"
  },
  "language_info": {
   "codemirror_mode": {
    "name": "ipython",
    "version": 3
   },
   "file_extension": ".py",
   "mimetype": "text/x-python",
   "name": "python",
   "nbconvert_exporter": "python",
   "pygments_lexer": "ipython3",
   "version": "3.6.5"
  }
 },
 "nbformat": 4,
 "nbformat_minor": 2
}
